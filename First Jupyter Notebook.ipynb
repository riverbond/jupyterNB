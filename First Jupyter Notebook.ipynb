{
 "cells": [
  {
   "cell_type": "code",
   "execution_count": 1,
   "metadata": {},
   "outputs": [
    {
     "data": {
      "text/plain": [
       "'3.5.3 |Anaconda 4.4.0 (x86_64)| (default, Mar  6 2017, 12:15:08) \\n[GCC 4.2.1 Compatible Apple LLVM 6.0 (clang-600.0.57)]'"
      ]
     },
     "execution_count": 1,
     "metadata": {},
     "output_type": "execute_result"
    }
   ],
   "source": [
    "import sys\n",
    "sys.version"
   ]
  },
  {
   "cell_type": "code",
   "execution_count": 2,
   "metadata": {},
   "outputs": [
    {
     "data": {
      "text/plain": [
       "2"
      ]
     },
     "execution_count": 2,
     "metadata": {},
     "output_type": "execute_result"
    }
   ],
   "source": [
    "1 + 1"
   ]
  },
  {
   "cell_type": "code",
   "execution_count": 3,
   "metadata": {},
   "outputs": [
    {
     "name": "stdout",
     "output_type": "stream",
     "text": [
      "theta = 0.5 * pi\n",
      "sin(theta) =  1.0\n",
      "cos(theta) =  6.12323399574e-17\n"
     ]
    }
   ],
   "source": [
    "import numpy as np\n",
    "thrad=0.5\n",
    "theta=thrad*np.pi\n",
    "sinth=np.sin(theta)\n",
    "costh=np.cos(theta)\n",
    "print('theta =', thrad, '* pi')\n",
    "print('sin(theta) = ', sinth)\n",
    "print('cos(theta) = ', costh)"
   ]
  },
  {
   "cell_type": "code",
   "execution_count": 4,
   "metadata": {},
   "outputs": [
    {
     "name": "stdout",
     "output_type": "stream",
     "text": [
      "theta = 0.5 * pi\n",
      "sin(theta) =  1.0\n",
      "cos(theta) =  6.12323399574e-17\n"
     ]
    }
   ],
   "source": [
    "import numpy as np\n",
    "thrad=0.5\n",
    "theta=thrad*np.pi\n",
    "sinth=np.sin(theta)\n",
    "costh=np.cos(theta)\n",
    "print('theta =', thrad, '* pi')\n",
    "print('sin(theta) = ', sinth)\n",
    "print('cos(theta) = ', costh)"
   ]
  },
  {
   "cell_type": "markdown",
   "metadata": {},
   "source": [
    "# Title level 1\n",
    "## Title level 2\n",
    "### Title level 3\n",
    "\n",
    "- Item 1\n",
    "- Item 2\n",
    "\n",
    "1. Enumerate 1\n",
    "\n",
    "2. Enumerate 2"
   ]
  },
  {
   "cell_type": "markdown",
   "metadata": {},
   "source": [
    "$$\n",
    "\\frac{d\\mathbf{R}(t)}{dt}=\\mathbf{V}(t)\n",
    "$$"
   ]
  },
  {
   "cell_type": "markdown",
   "metadata": {},
   "source": []
  },
  {
   "cell_type": "code",
   "execution_count": 5,
   "metadata": {},
   "outputs": [
    {
     "name": "stdout",
     "output_type": "stream",
     "text": [
      "DampedHarmonicOscillator.ipynb Intro to matplotlib.ipynb\r\n",
      "EulerMethod.ipynb              Runge-Kutta.ipynb\r\n",
      "First Jupyter Notebook.ipynb\r\n"
     ]
    }
   ],
   "source": [
    "! ls"
   ]
  },
  {
   "cell_type": "code",
   "execution_count": 6,
   "metadata": {},
   "outputs": [
    {
     "name": "stdout",
     "output_type": "stream",
     "text": [
      "      82     212   25239 EulerMethod.ipynb\r\n"
     ]
    }
   ],
   "source": [
    "!wc EulerMethod.ipynb"
   ]
  },
  {
   "cell_type": "markdown",
   "metadata": {},
   "source": [
    "#### Count the most frequent words in a file"
   ]
  },
  {
   "cell_type": "markdown",
   "metadata": {},
   "source": [
    "!sed -e 's/ /\\'$'\\n/g' < $filename | sort | uniq -c | sort -nr | head -15"
   ]
  },
  {
   "cell_type": "code",
   "execution_count": null,
   "metadata": {
    "collapsed": true
   },
   "outputs": [],
   "source": []
  }
 ],
 "metadata": {
  "kernelspec": {
   "display_name": "Python 3",
   "language": "python",
   "name": "python3"
  },
  "language_info": {
   "codemirror_mode": {
    "name": "ipython",
    "version": 3
   },
   "file_extension": ".py",
   "mimetype": "text/x-python",
   "name": "python",
   "nbconvert_exporter": "python",
   "pygments_lexer": "ipython3",
   "version": "3.5.3"
  }
 },
 "nbformat": 4,
 "nbformat_minor": 2
}

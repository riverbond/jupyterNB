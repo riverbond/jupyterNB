{
 "cells": [
  {
   "cell_type": "code",
   "execution_count": 4,
   "metadata": {
    "collapsed": true
   },
   "outputs": [],
   "source": [
    "% matplotlib nbagg\n",
    "import numpy as np\n",
    "import matplotlib.pyplot as plt\n",
    "import matplotlib.animation as animation\n",
    "plt.style.use('ggplot')"
   ]
  },
  {
   "cell_type": "code",
   "execution_count": 10,
   "metadata": {},
   "outputs": [],
   "source": [
    "dim  = 2 # dimensions (x, y)\n",
    "nums = 1000 # number of steps\n",
    "R    = np.zeros(dim)\n",
    "V    = np.zeros(dim)\n",
    "Rs   = np.zeros([dim, nums]) # particle position at all steps\n",
    "Vs   = np.zeros([dim, nums]) # particle velocity at all steps\n",
    "Et   = np.zeros(nums) # total energy of the system at all steps\n",
    "time = np.zeros(nums) # time at all steps"
   ]
  },
  {
   "cell_type": "code",
   "execution_count": null,
   "metadata": {
    "collapsed": true
   },
   "outputs": [],
   "source": [
    "def init(): # initializes the animation\n",
    "    particles.set_data([], [])\n",
    "    line.set_data([], [])\n",
    "    title.set_text(r'')\n",
    "    return particles, line, title\n",
    "def animate(i): # define the anination using Euler's Method\n",
    "    "
   ]
  }
 ],
 "metadata": {
  "kernelspec": {
   "display_name": "Python 3",
   "language": "python",
   "name": "python3"
  },
  "language_info": {
   "codemirror_mode": {
    "name": "ipython",
    "version": 3
   },
   "file_extension": ".py",
   "mimetype": "text/x-python",
   "name": "python",
   "nbconvert_exporter": "python",
   "pygments_lexer": "ipython3",
   "version": "3.5.3"
  }
 },
 "nbformat": 4,
 "nbformat_minor": 2
}

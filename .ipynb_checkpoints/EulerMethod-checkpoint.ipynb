{
 "cells": [
  {
   "cell_type": "code",
   "execution_count": 2,
   "metadata": {
    "collapsed": true
   },
   "outputs": [],
   "source": [
    "% matplotlib inline\n",
    "import numpy as np\n",
    "import matplotlib as plt\n",
    "plt.style.use('ggplot')"
   ]
  },
  {
   "cell_type": "code",
   "execution_count": null,
   "metadata": {
    "collapsed": true
   },
   "outputs": [],
   "source": [
    "# Euler Method\n",
    "dt, tmin, tmax = 0.1, 1.0, 10.0 \n",
    "step = int((tmax-tmin)/dt)\n",
    "# create array t from tmin to tmax with equal interval dt\n",
    "t = np.linspace(tmin, tmax, step)\n",
    "y = np.zeros(step) #initialize array y as all zeros\n",
    "ya = np.exp(-t) # analytical solution y=exp(-t)\n",
    "plt.plot(t, ya, label='Exact', lw=5) # plot y vs. t (analytical)\n",
    "y[0]=1.0 # initial condition\n",
    "for i in range(step-1):\n",
    "    y[i+1]=y[i]-dt*y[i] # Euler's method\n",
    "plt.plot(t, y, ls='--', lw=3, label='Numerical') # plot y vs. t (numerical)\n"
   ]
  }
 ],
 "metadata": {
  "kernelspec": {
   "display_name": "Python 3",
   "language": "python",
   "name": "python3"
  },
  "language_info": {
   "codemirror_mode": {
    "name": "ipython",
    "version": 3
   },
   "file_extension": ".py",
   "mimetype": "text/x-python",
   "name": "python",
   "nbconvert_exporter": "python",
   "pygments_lexer": "ipython3",
   "version": "3.5.3"
  }
 },
 "nbformat": 4,
 "nbformat_minor": 2
}

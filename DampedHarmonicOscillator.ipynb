{
 "cells": [
  {
   "cell_type": "code",
   "execution_count": 13,
   "metadata": {
    "collapsed": true
   },
   "outputs": [],
   "source": [
    "% matplotlib nbagg\n",
    "import numpy as np\n",
    "import matplotlib.pyplot as plt\n",
    "import matplotlib.animation as animation\n",
    "plt.style.use('ggplot')"
   ]
  },
  {
   "cell_type": "code",
   "execution_count": 14,
   "metadata": {},
   "outputs": [],
   "source": [
    "dim  = 2 # dimensions (x, y)\n",
    "nums = 1000 # number of steps\n",
    "R    = np.zeros(dim)\n",
    "V    = np.zeros(dim)\n",
    "Rs   = np.zeros([dim, nums]) # particle position at all steps\n",
    "Vs   = np.zeros([dim, nums]) # particle velocity at all steps\n",
    "Et   = np.zeros(nums) # total energy of the system at all steps\n",
    "time = np.zeros(nums) # time at all steps"
   ]
  },
  {
   "cell_type": "code",
   "execution_count": 15,
   "metadata": {
    "collapsed": true
   },
   "outputs": [],
   "source": [
    "def init(): # initializes the animation\n",
    "    particles.set_data([], [])\n",
    "    line.set_data([], [])\n",
    "    title.set_text(r'')\n",
    "    return particles, line, title\n",
    "def animate(i): # define the animation using Euler's Method\n",
    "    global R, V, F, Rs, Vs, time, Et # Where did the F come from?\n",
    "    R, V = R+V*dt, V*(1-zeta/m*dt)-k/m*dt*R # By Euler's method\n",
    "    Rs[0:dim,i]=R\n",
    "    Vs[0:dim,i]=V\n",
    "    time[i]=i*dt\n",
    "    Et[i]=0.5*m*np.linealg.norm(V)**2+0.5*k*np.linealg.norm(R)**2\n",
    "    particles.set_data(R[0], R[1]) # current position\n",
    "    line.set_data(Rs[0, 0:i], Rs[1,0:i]) # add latest position Rs\n",
    "    title.set_text(r\"$t = {0:.2f}, E_T = {1:.3f}$\".format(i*dt,Et[i]))\n",
    "    return particles, line, title"
   ]
  },
  {
   "cell_type": "code",
   "execution_count": null,
   "metadata": {
    "collapsed": true
   },
   "outputs": [],
   "source": [
    "# System parameters\n",
    "# particle mass, spring & friction constants\n",
    "m, k, zeta = 1.0, 1.0, 0.25\n",
    "# Initial conditions\n",
    "R[0], R[1] = 1., 1. # Rx(0), Ry(0)\n",
    "V[0], V[1] = 1., 0. # Vx(0), Vy(0)\n",
    "dt  = 0.1*np.sqrt(k/m) # set \\Delta t\n",
    "box = 5 # set size of draw area\n"
   ]
  }
 ],
 "metadata": {
  "kernelspec": {
   "display_name": "Python 3",
   "language": "python",
   "name": "python3"
  },
  "language_info": {
   "codemirror_mode": {
    "name": "ipython",
    "version": 3
   },
   "file_extension": ".py",
   "mimetype": "text/x-python",
   "name": "python",
   "nbconvert_exporter": "python",
   "pygments_lexer": "ipython3",
   "version": "3.5.3"
  }
 },
 "nbformat": 4,
 "nbformat_minor": 2
}
